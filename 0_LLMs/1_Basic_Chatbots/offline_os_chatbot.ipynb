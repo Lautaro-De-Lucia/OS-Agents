{
 "cells": [
  {
   "cell_type": "markdown",
   "id": "05e01fac",
   "metadata": {},
   "source": [
    "## Offline Open-Source Chatbot"
   ]
  },
  {
   "cell_type": "code",
   "execution_count": 1,
   "id": "2c79f4a4",
   "metadata": {},
   "outputs": [],
   "source": [
    "# =========================\n",
    "# Physics-Teacher Chatbot (Ollama edition)\n",
    "# =========================\n",
    "\n",
    "import json\n",
    "import requests\n",
    "import gradio as gr\n",
    "\n",
    "# -------------------------\n",
    "# Ollama connection settings\n",
    "# -------------------------\n",
    "OLLAMA_URL = \"http://localhost:11434/api/chat\"   # default daemon address\n",
    "AVAILABLE_MODELS = [\"tinyllama\", \"phi3:3.8b\",\"llama3:8b\", \"qwen2.5-coder:7b\"]\n",
    "\n",
    "# -------------------------\n",
    "# System prompt (same as before)\n",
    "# -------------------------\n",
    "system_message = (\"You are a helpful general-purpose coding assistant\")"
   ]
  },
  {
   "cell_type": "code",
   "execution_count": 2,
   "id": "5da08f70",
   "metadata": {},
   "outputs": [],
   "source": [
    "# -------------------------\n",
    "# Core streaming chat function\n",
    "# -------------------------\n",
    "def stream_chat(message: str, history: list, model_choice: str):\n",
    "    \"\"\"\n",
    "    Generates streaming responses from the selected Ollama model\n",
    "    while preserving the full chat history (memory).\n",
    "    \"\"\"\n",
    "    # 1) Build chat history in Ollama format\n",
    "    messages = [{\"role\": \"system\", \"content\": system_message}]\n",
    "    for user_msg, bot_msg in history:\n",
    "        messages.append({\"role\": \"user\", \"content\": user_msg})\n",
    "        messages.append({\"role\": \"assistant\", \"content\": bot_msg})\n",
    "    messages.append({\"role\": \"user\", \"content\": message})\n",
    "\n",
    "    # 2) Make a streaming request to Ollama\n",
    "    response = requests.post(\n",
    "        OLLAMA_URL,\n",
    "        json={\n",
    "            \"model\": model_choice,\n",
    "            \"messages\": messages,\n",
    "            \"stream\": True,       # Enable server-sent-events streaming\n",
    "            \"options\": {          # ← new\n",
    "                \"num_thread\": 2   # choose 1‒N  (0 = let Ollama decide)\n",
    "            }\n",
    "        },\n",
    "        stream=True,                  # Let requests yield the SSE lines\n",
    "        timeout=None,                 # Large conversations ≠ premature timeout\n",
    "    )\n",
    "\n",
    "    # 3) Parse the event-stream line by line\n",
    "    full_reply = \"\"\n",
    "    for line in response.iter_lines():\n",
    "        if not line:\n",
    "            continue\n",
    "        # Each non-empty line is a JSON object\n",
    "        data = json.loads(line.decode(\"utf-8\"))\n",
    "\n",
    "        # Ollama sends a final line with {\"done\": true}\n",
    "        if data.get(\"done\"):\n",
    "            break\n",
    "\n",
    "        delta = data.get(\"message\", {}).get(\"content\", \"\")\n",
    "        full_reply += delta\n",
    "        yield full_reply               # incremental update to Gradio"
   ]
  },
  {
   "cell_type": "code",
   "execution_count": 3,
   "id": "ba8eab6a",
   "metadata": {},
   "outputs": [
    {
     "name": "stderr",
     "output_type": "stream",
     "text": [
      "C:\\Users\\deluc\\AppData\\Local\\Temp\\ipykernel_11096\\1662960440.py:3: UserWarning: You have not specified a value for the `type` parameter. Defaulting to the 'tuples' format for chatbot messages, but this is deprecated and will be removed in a future version of Gradio. Please set type='messages' instead, which uses openai-style dictionaries with 'role' and 'content' keys.\n",
      "  chatbot=gr.Chatbot(label=\"Local LLM Chatbot (Ollama)\"),\n",
      "c:\\Users\\deluc\\Documents\\Agentic-Code\\projects\\agents\\.venv\\Lib\\site-packages\\gradio\\chat_interface.py:321: UserWarning: The gr.ChatInterface was not provided with a type, so the type of the gr.Chatbot, 'tuples', will be used.\n",
      "  warnings.warn(\n"
     ]
    }
   ],
   "source": [
    "demo = gr.ChatInterface(\n",
    "    fn=stream_chat,\n",
    "    chatbot=gr.Chatbot(label=\"Local LLM Chatbot (Ollama)\"),\n",
    "    additional_inputs=[\n",
    "        gr.Dropdown(\n",
    "            choices=AVAILABLE_MODELS,\n",
    "            label=\"Select Model\",\n",
    "            value=AVAILABLE_MODELS[0],   # default = tinyllama\n",
    "        )\n",
    "    ],\n",
    "    textbox=gr.Textbox(placeholder=\"Ask anything...\"),\n",
    "    title=\"🤖 Local Chatbot Assistant\",\n",
    "    theme=\"default\",\n",
    ")\n",
    "\n",
    "\n"
   ]
  },
  {
   "cell_type": "code",
   "execution_count": 4,
   "id": "39bd0a52",
   "metadata": {},
   "outputs": [
    {
     "name": "stdout",
     "output_type": "stream",
     "text": [
      "* Running on local URL:  http://127.0.0.1:7860\n",
      "* To create a public link, set `share=True` in `launch()`.\n"
     ]
    },
    {
     "data": {
      "text/html": [
       "<div><iframe src=\"http://127.0.0.1:7860/\" width=\"100%\" height=\"500\" allow=\"autoplay; camera; microphone; clipboard-read; clipboard-write;\" frameborder=\"0\" allowfullscreen></iframe></div>"
      ],
      "text/plain": [
       "<IPython.core.display.HTML object>"
      ]
     },
     "metadata": {},
     "output_type": "display_data"
    },
    {
     "data": {
      "text/plain": []
     },
     "execution_count": 4,
     "metadata": {},
     "output_type": "execute_result"
    }
   ],
   "source": [
    "demo.launch()"
   ]
  },
  {
   "cell_type": "code",
   "execution_count": null,
   "id": "a2ae00cb",
   "metadata": {},
   "outputs": [],
   "source": []
  }
 ],
 "metadata": {
  "kernelspec": {
   "display_name": ".venv",
   "language": "python",
   "name": "python3"
  },
  "language_info": {
   "codemirror_mode": {
    "name": "ipython",
    "version": 3
   },
   "file_extension": ".py",
   "mimetype": "text/x-python",
   "name": "python",
   "nbconvert_exporter": "python",
   "pygments_lexer": "ipython3",
   "version": "3.12.7"
  }
 },
 "nbformat": 4,
 "nbformat_minor": 5
}
