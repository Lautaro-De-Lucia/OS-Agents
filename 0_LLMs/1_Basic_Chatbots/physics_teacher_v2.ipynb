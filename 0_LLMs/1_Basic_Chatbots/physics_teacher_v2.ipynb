{
 "cells": [
  {
   "cell_type": "markdown",
   "id": "bf1523ba",
   "metadata": {},
   "source": [
    "## Physics Teacher v2\n",
    "\n",
    "Physics teacher now with a calculator tool\n",
    "\n",
    "\n"
   ]
  },
  {
   "cell_type": "markdown",
   "id": "a9b779f8",
   "metadata": {},
   "source": [
    "1. Preguntar a chatGPT si el formato es correcto (si se conforma con buenas prácticas) o puede mejorarse \n",
    "2. Explorar y entender el nuevo código, agregar tanto comentarios como explicación en Markdown\n",
    "3. Codear Physics Teacher v3 que utilice las dos utilidades descritas abajo"
   ]
  },
  {
   "cell_type": "code",
   "execution_count": 27,
   "id": "47d9969e",
   "metadata": {},
   "outputs": [],
   "source": [
    "# %% ----------------- imports & setup -----------------\n",
    "import os, ast, operator as op\n",
    "from dotenv import load_dotenv\n",
    "import gradio as gr\n",
    "from openai import OpenAI\n",
    "\n",
    "load_dotenv(override=True)\n",
    "OPENAI_API_KEY = os.getenv(\"OPENAI_API_KEY\")\n",
    "if not OPENAI_API_KEY:\n",
    "    raise ValueError(\"OPENAI_API_KEY not found in .env\")\n",
    "\n",
    "client = OpenAI(api_key=OPENAI_API_KEY)"
   ]
  },
  {
   "cell_type": "code",
   "execution_count": null,
   "id": "cabeef7a",
   "metadata": {},
   "outputs": [],
   "source": [
    "# We define the tool with the proper JSON schema\n",
    "calc_tool = {\n",
    "    \"type\": \"function\",\n",
    "    \"function\": {\n",
    "        \"name\": \"calc\",\n",
    "        \"description\": \"Evaluate an arithmetic expression and return the numeric result.\",\n",
    "        \"parameters\": {\n",
    "            \"type\": \"object\",\n",
    "            \"properties\": {\n",
    "                \"expression\": {\n",
    "                    \"type\": \"string\",\n",
    "                    \"description\": \"Pure arithmetic, e.g. '2 * pi * sqrt(0.75 / 9.81)'\"\n",
    "                }\n",
    "            },\n",
    "            \"required\": [\"expression\"]\n",
    "        },\n",
    "    },\n",
    "}\n"
   ]
  },
  {
   "cell_type": "code",
   "execution_count": 29,
   "id": "2244e0bf",
   "metadata": {},
   "outputs": [],
   "source": [
    "_ALLOWED_OPS = {\n",
    "    ast.Add: op.add, ast.Sub: op.sub, ast.Mult: op.mul,\n",
    "    ast.Div: op.truediv, ast.Pow: op.pow, ast.Mod: op.mod,\n",
    "    ast.USub: op.neg\n",
    "}\n",
    "\n",
    "def safe_eval(expr: str):\n",
    "    \"\"\"Evaluate a basic arithmetic expression safely.\"\"\"\n",
    "    def _eval(node):\n",
    "        if isinstance(node, ast.Num): return node.n\n",
    "        if isinstance(node, ast.UnaryOp): return _ALLOWED_OPS[type(node.op)](_eval(node.operand))\n",
    "        if isinstance(node, ast.BinOp):\n",
    "            return _ALLOWED_OPS[type(node.op)](_eval(node.left), _eval(node.right))\n",
    "        raise ValueError(\"Unsupported expression\")\n",
    "    return _eval(ast.parse(expr, mode=\"eval\").body)\n"
   ]
  },
  {
   "cell_type": "code",
   "execution_count": 30,
   "id": "cb74352a",
   "metadata": {},
   "outputs": [],
   "source": [
    "system_message = (\n",
    "    \"You are a helpful, concise assistant for a high-school physics teacher. \"\n",
    "    \"Answer physics questions clearly. \"\n",
    "    \"If the user's request is not about physics, respond that you can only help with physics topics.\"\n",
    ")\n",
    "\n"
   ]
  },
  {
   "cell_type": "code",
   "execution_count": 31,
   "id": "df352600",
   "metadata": {},
   "outputs": [],
   "source": [
    "import json\n",
    "\n",
    "def stream_chat(message: str, history: list, model_choice: str):\n",
    "    # ---------- build conversation so far ----------\n",
    "    base_msgs = [{\"role\": \"system\", \"content\": system_message}]\n",
    "    for u, b in history:\n",
    "        base_msgs += [{\"role\": \"user\", \"content\": u},\n",
    "                      {\"role\": \"assistant\", \"content\": b}]\n",
    "    base_msgs.append({\"role\": \"user\", \"content\": message})\n",
    "\n",
    "    # ---------- 1️⃣ first, non-streaming request ----------\n",
    "    first = client.chat.completions.create(\n",
    "        model=model_choice,\n",
    "        messages=base_msgs,\n",
    "        tools=[calc_tool],\n",
    "        stream=False          # blocking\n",
    "    )\n",
    "    choice   = first.choices[0]\n",
    "    assistant_with_call = choice.message      # <-- keep this whole message\n",
    "\n",
    "    # ---------- tool path ----------\n",
    "    if choice.finish_reason == \"tool_calls\":\n",
    "        call = assistant_with_call.tool_calls[0]\n",
    "        args = json.loads(call.function.arguments)\n",
    "        expr = args[\"expression\"]\n",
    "        print(\"🔧 calc called with:\", expr)\n",
    "\n",
    "        # run calculator safely\n",
    "        try:\n",
    "            result = safe_eval(expr)\n",
    "        except Exception as e:\n",
    "            result = f\"Error: {e}\"\n",
    "        print(\"🔧 result:\", result)\n",
    "\n",
    "        # ---------- 2️⃣ send result + stream final reply ----------\n",
    "        follow_up_msgs = (\n",
    "            base_msgs\n",
    "            + [assistant_with_call]           # 👈 REQUIRED\n",
    "            + [{\n",
    "                \"role\": \"tool\",\n",
    "                \"tool_call_id\": call.id,\n",
    "                \"name\": \"calc\",\n",
    "                \"content\": str(result)\n",
    "              }]\n",
    "        )\n",
    "\n",
    "        partial = \"\"\n",
    "        for chunk in client.chat.completions.create(\n",
    "            model=model_choice,\n",
    "            messages=follow_up_msgs,\n",
    "            stream=True\n",
    "        ):\n",
    "            partial += chunk.choices[0].delta.content or \"\"\n",
    "            yield partial\n",
    "\n",
    "    # ---------- no tool needed ----------\n",
    "    else:\n",
    "        partial = \"\"\n",
    "        for chunk in client.chat.completions.create(\n",
    "            model=model_choice,\n",
    "            messages=base_msgs,\n",
    "            stream=True\n",
    "        ):\n",
    "            partial += chunk.choices[0].delta.content or \"\"\n",
    "            yield partial\n",
    "\n"
   ]
  },
  {
   "cell_type": "code",
   "execution_count": 32,
   "id": "5d7ae627",
   "metadata": {},
   "outputs": [
    {
     "name": "stderr",
     "output_type": "stream",
     "text": [
      "C:\\Users\\deluc\\AppData\\Local\\Temp\\ipykernel_32\\1215131419.py:4: UserWarning: You have not specified a value for the `type` parameter. Defaulting to the 'tuples' format for chatbot messages, but this is deprecated and will be removed in a future version of Gradio. Please set type='messages' instead, which uses openai-style dictionaries with 'role' and 'content' keys.\n",
      "  chatbot=gr.Chatbot(label=\"Physics-Teacher Chatbot\"),\n",
      "c:\\Users\\deluc\\Documents\\Agentic-Code\\projects\\agents\\.venv\\Lib\\site-packages\\gradio\\chat_interface.py:321: UserWarning: The gr.ChatInterface was not provided with a type, so the type of the gr.Chatbot, 'tuples', will be used.\n",
      "  warnings.warn(\n"
     ]
    },
    {
     "name": "stdout",
     "output_type": "stream",
     "text": [
      "* Running on local URL:  http://127.0.0.1:7864\n",
      "* To create a public link, set `share=True` in `launch()`.\n"
     ]
    },
    {
     "data": {
      "text/html": [
       "<div><iframe src=\"http://127.0.0.1:7864/\" width=\"100%\" height=\"500\" allow=\"autoplay; camera; microphone; clipboard-read; clipboard-write;\" frameborder=\"0\" allowfullscreen></iframe></div>"
      ],
      "text/plain": [
       "<IPython.core.display.HTML object>"
      ]
     },
     "metadata": {},
     "output_type": "display_data"
    },
    {
     "data": {
      "text/plain": []
     },
     "execution_count": 32,
     "metadata": {},
     "output_type": "execute_result"
    },
    {
     "name": "stdout",
     "output_type": "stream",
     "text": [
      "🔧 calc called with: 5 / 1000\n",
      "🔧 result: 0.005\n"
     ]
    },
    {
     "name": "stderr",
     "output_type": "stream",
     "text": [
      "C:\\Users\\deluc\\AppData\\Local\\Temp\\ipykernel_32\\1232039094.py:10: DeprecationWarning: ast.Num is deprecated and will be removed in Python 3.14; use ast.Constant instead\n",
      "  if isinstance(node, ast.Num): return node.n\n",
      "C:\\Users\\deluc\\AppData\\Local\\Temp\\ipykernel_32\\1232039094.py:10: DeprecationWarning: Attribute n is deprecated and will be removed in Python 3.14; use value instead\n",
      "  if isinstance(node, ast.Num): return node.n\n"
     ]
    }
   ],
   "source": [
    "# %% ----------------- Gradio UI -----------------\n",
    "gr.ChatInterface(\n",
    "    fn=stream_chat,\n",
    "    chatbot=gr.Chatbot(label=\"Physics-Teacher Chatbot\"),\n",
    "    additional_inputs=[\n",
    "        gr.Dropdown(\n",
    "            choices=[\"gpt-4o\", \"gpt-4o-mini\", \"gpt-3.5-turbo\"],\n",
    "            value=\"gpt-4o\",\n",
    "            label=\"OpenAI model\"\n",
    "        )\n",
    "    ],\n",
    "    textbox=gr.Textbox(placeholder=\"Ask a physics question…\"),\n",
    "    title=\"🧑‍🏫 Physics Teacher with Calculator\",\n",
    "    theme=\"default\"\n",
    ").launch()"
   ]
  },
  {
   "cell_type": "markdown",
   "id": "42312a76",
   "metadata": {},
   "source": [
    "## Appendix - Using LLMs to create tools"
   ]
  },
  {
   "cell_type": "markdown",
   "id": "0e041556",
   "metadata": {},
   "source": [
    "Create JSON tool from natural language description  "
   ]
  },
  {
   "cell_type": "markdown",
   "id": "14e825d3",
   "metadata": {},
   "source": [
    "Create a tool function from a JSON tool description"
   ]
  },
  {
   "cell_type": "code",
   "execution_count": null,
   "id": "d9c446f5",
   "metadata": {},
   "outputs": [],
   "source": []
  }
 ],
 "metadata": {
  "kernelspec": {
   "display_name": ".venv",
   "language": "python",
   "name": "python3"
  },
  "language_info": {
   "codemirror_mode": {
    "name": "ipython",
    "version": 3
   },
   "file_extension": ".py",
   "mimetype": "text/x-python",
   "name": "python",
   "nbconvert_exporter": "python",
   "pygments_lexer": "ipython3",
   "version": "3.12.7"
  }
 },
 "nbformat": 4,
 "nbformat_minor": 5
}
