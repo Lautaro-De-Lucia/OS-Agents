{
 "cells": [
  {
   "cell_type": "markdown",
   "id": "259fd524",
   "metadata": {},
   "source": [
    "## Physics Teacher v1\n",
    "\n",
    "Same Gradio interface but now with memory, also replacing gpt-4o-mini with gemini.\n",
    "\n",
    "\n",
    "\n"
   ]
  },
  {
   "cell_type": "code",
   "execution_count": 4,
   "id": "ed1f8adc",
   "metadata": {},
   "outputs": [],
   "source": [
    "# imports\n",
    "# Import necessary libraries\n",
    "import os                     # For accessing environment variables\n",
    "from dotenv import load_dotenv  # For loading API keys from a .env file\n",
    "import gradio as gr           # For building the web UI\n",
    "from openai import OpenAI     # OpenAI's official Python client\n"
   ]
  },
  {
   "cell_type": "code",
   "execution_count": 5,
   "id": "d92d491d",
   "metadata": {},
   "outputs": [],
   "source": [
    "# ====================\n",
    "# Load environment variables (e.g., your API key) from a `.env` file\n",
    "# ====================\n",
    "load_dotenv()\n",
    "OPENAI_API_KEY = os.getenv('OPENAI_API_KEY')\n",
    "GEMINI_API_KEY = os.getenv(\"GEMINI_API_KEY\")\n",
    "GEMINI_BASE_URL = \"https://generativelanguage.googleapis.com/v1beta/openai/\"\n",
    "\n",
    "# Ensure the API key is available\n",
    "if not OPENAI_API_KEY or not GEMINI_API_KEY:\n",
    "    raise ValueError(\"API_KEY not found in your .env file!\")\n"
   ]
  },
  {
   "cell_type": "code",
   "execution_count": 6,
   "id": "2e70edfc",
   "metadata": {},
   "outputs": [],
   "source": [
    "# ====================\n",
    "# Initialize OpenAI client with the loaded API key\n",
    "# ====================\n",
    "client_gpt = OpenAI(api_key=OPENAI_API_KEY)\n",
    "client_gemini = OpenAI(api_key=GEMINI_API_KEY, base_url=GEMINI_BASE_URL)\n"
   ]
  },
  {
   "cell_type": "code",
   "execution_count": 7,
   "id": "aeba8a60",
   "metadata": {},
   "outputs": [],
   "source": [
    "# ====================\n",
    "# Define the system behavior for the chatbot (influences tone and personality)\n",
    "# ====================\n",
    "system_message = \"You are a helpful, concise assistant for a high-school physics teacher.\" \\\n",
    "    \" You will answer questions about physics and provide explanations.\" \\\n",
    "    \" If the subject of the question is unrelated to phisics, you will tell the user you are a physics assistant and the questions should pertain to physics only\" \\\n",
    "    \" DO NOT answer anything beyond this if it is not related to physics.\" "
   ]
  },
  {
   "cell_type": "code",
   "execution_count": 8,
   "id": "9a53f539",
   "metadata": {},
   "outputs": [],
   "source": [
    "# Streaming function with model selector and memory\n",
    "def stream_chat(message: str, history: list, model_choice: str):\n",
    "    # Prepare full chat history\n",
    "    messages = [{\"role\": \"system\", \"content\": system_message}]\n",
    "    for user_msg, bot_msg in history:\n",
    "        messages.append({\"role\": \"user\", \"content\": user_msg})\n",
    "        messages.append({\"role\": \"assistant\", \"content\": bot_msg})\n",
    "    messages.append({\"role\": \"user\", \"content\": message})\n",
    "\n",
    "    # Select client based on user input\n",
    "    if \"gemini\" in model_choice:\n",
    "        client = client_gemini\n",
    "    else:\n",
    "        client = client_gpt\n",
    "\n",
    "    # Stream from selected model\n",
    "    stream = client.chat.completions.create(\n",
    "        model=model_choice,\n",
    "        messages=messages,\n",
    "        stream=True\n",
    "    )\n",
    "\n",
    "    response = \"\"\n",
    "    for chunk in stream:\n",
    "        response += chunk.choices[0].delta.content or \"\"\n",
    "        yield response\n",
    "\n"
   ]
  },
  {
   "cell_type": "code",
   "execution_count": 43,
   "id": "ebebc81b",
   "metadata": {},
   "outputs": [
    {
     "name": "stderr",
     "output_type": "stream",
     "text": [
      "C:\\Users\\deluc\\AppData\\Local\\Temp\\ipykernel_13120\\3789825387.py:4: UserWarning: You have not specified a value for the `type` parameter. Defaulting to the 'tuples' format for chatbot messages, but this is deprecated and will be removed in a future version of Gradio. Please set type='messages' instead, which uses openai-style dictionaries with 'role' and 'content' keys.\n",
      "  chatbot=gr.Chatbot(label=\"Multi-Model Chatbot\"),\n",
      "c:\\Users\\deluc\\Documents\\Agentic-Code\\projects\\agents\\.venv\\Lib\\site-packages\\gradio\\chat_interface.py:321: UserWarning: The gr.ChatInterface was not provided with a type, so the type of the gr.Chatbot, 'tuples', will be used.\n",
      "  warnings.warn(\n"
     ]
    },
    {
     "name": "stdout",
     "output_type": "stream",
     "text": [
      "* Running on local URL:  http://127.0.0.1:7873\n",
      "* To create a public link, set `share=True` in `launch()`.\n"
     ]
    },
    {
     "data": {
      "text/html": [
       "<div><iframe src=\"http://127.0.0.1:7873/\" width=\"100%\" height=\"500\" allow=\"autoplay; camera; microphone; clipboard-read; clipboard-write;\" frameborder=\"0\" allowfullscreen></iframe></div>"
      ],
      "text/plain": [
       "<IPython.core.display.HTML object>"
      ]
     },
     "metadata": {},
     "output_type": "display_data"
    },
    {
     "data": {
      "text/plain": []
     },
     "execution_count": 43,
     "metadata": {},
     "output_type": "execute_result"
    }
   ],
   "source": [
    "# Build Gradio UI\n",
    "gr.ChatInterface(\n",
    "    fn=stream_chat,\n",
    "    chatbot=gr.Chatbot(label=\"Multi-Model Chatbot\"),\n",
    "    additional_inputs=[\n",
    "        gr.Dropdown(\n",
    "            choices=[\"gpt-4o-mini\", \"gemini-2.0-flash\"],\n",
    "            label=\"Select Model\",\n",
    "            value=\"gpt-4o-mini\"\n",
    "        )\n",
    "    ],\n",
    "    textbox=gr.Textbox(placeholder=\"Ask anything...\"),\n",
    "    title=\"🤖 GPT vs Gemini Chatbot\",\n",
    "    theme=\"default\"\n",
    ").launch()\n"
   ]
  },
  {
   "cell_type": "markdown",
   "id": "739a2300",
   "metadata": {},
   "source": []
  }
 ],
 "metadata": {
  "kernelspec": {
   "display_name": ".venv",
   "language": "python",
   "name": "python3"
  },
  "language_info": {
   "codemirror_mode": {
    "name": "ipython",
    "version": 3
   },
   "file_extension": ".py",
   "mimetype": "text/x-python",
   "name": "python",
   "nbconvert_exporter": "python",
   "pygments_lexer": "ipython3",
   "version": "3.12.7"
  }
 },
 "nbformat": 4,
 "nbformat_minor": 5
}
