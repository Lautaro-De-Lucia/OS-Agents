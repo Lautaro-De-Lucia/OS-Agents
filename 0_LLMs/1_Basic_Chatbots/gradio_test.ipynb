{
 "cells": [
  {
   "cell_type": "markdown",
   "id": "8b0e11f2-9ea4-48c2-b8d2-d0a4ba967827",
   "metadata": {},
   "source": [
    "# Gradio Day!\n",
    "\n",
    "Today we will build User Interfaces using the outrageously simple Gradio framework.\n",
    "\n",
    "Prepare for joy!\n",
    "\n",
    "Please note: your Gradio screens may appear in 'dark mode' or 'light mode' depending on your computer settings."
   ]
  },
  {
   "cell_type": "code",
   "execution_count": 35,
   "id": "c44c5494-950d-4d2f-8d4f-b87b57c5b330",
   "metadata": {},
   "outputs": [],
   "source": [
    "# imports\n",
    "# Import necessary libraries\n",
    "import os                     # For accessing environment variables\n",
    "from dotenv import load_dotenv  # For loading API keys from a .env file\n",
    "import gradio as gr           # For building the web UI\n",
    "from openai import OpenAI     # OpenAI's official Python client\n"
   ]
  },
  {
   "cell_type": "code",
   "execution_count": 36,
   "id": "d1715421-cead-400b-99af-986388a97aff",
   "metadata": {},
   "outputs": [],
   "source": [
    "# ====================\n",
    "# Load environment variables (e.g., your API key) from a `.env` file\n",
    "# ====================\n",
    "load_dotenv(override=True)\n",
    "openai_api_key = os.getenv('OPENAI_API_KEY')\n",
    "# Ensure the API key is available\n",
    "if not openai_api_key:\n",
    "    raise ValueError(\"OPENAI_API_KEY not found in your .env file!\")\n"
   ]
  },
  {
   "cell_type": "code",
   "execution_count": 37,
   "id": "337d5dfc-0181-4e3b-8ab9-e78e0c3f657b",
   "metadata": {},
   "outputs": [],
   "source": [
    "# ====================\n",
    "# Initialize OpenAI client with the loaded API key\n",
    "# ====================\n",
    "openai = OpenAI(api_key=openai_api_key)"
   ]
  },
  {
   "cell_type": "code",
   "execution_count": 38,
   "id": "22586021-1795-4929-8079-63f5bb4edd4c",
   "metadata": {},
   "outputs": [],
   "source": [
    "# ====================\n",
    "# Define the system behavior for the chatbot (influences tone and personality)\n",
    "# ====================\n",
    "system_message = \"You are a helpful, concise assistant for a high-school physics teacher.\" \\\n",
    "    \" You will answer questions about physics and provide explanations.\" \\\n",
    "    \" If the subject of the question is unrelated to phisics, you will tell the user you are a physics assistant and the questions should pertain to physics only\" \\\n",
    "    \" DO NOT answer anything beyond this if it is not related to physics.\" "
   ]
  },
  {
   "cell_type": "code",
   "execution_count": 39,
   "id": "24ab6bb6",
   "metadata": {},
   "outputs": [],
   "source": [
    "def stream_chat_response(message: str, history: list):\n",
    "    \"\"\"\n",
    "    Stream OpenAI responses in real time.\n",
    "    Accepts a user message and chat history (which we ignore for now).\n",
    "    \"\"\"\n",
    "    messages = [\n",
    "        {\"role\": \"system\", \"content\": system_message},\n",
    "        {\"role\": \"user\", \"content\": message}\n",
    "    ]\n",
    "\n",
    "    stream = openai.chat.completions.create(\n",
    "        model=\"gpt-4o-mini\",\n",
    "        messages=messages,\n",
    "        stream=True\n",
    "    )\n",
    "    # Review python Generators if confused by 'yield' \n",
    "    output = \"\"\n",
    "    for chunk in stream:\n",
    "        output += chunk.choices[0].delta.content or \"\"\n",
    "        yield output\n"
   ]
  },
  {
   "cell_type": "code",
   "execution_count": null,
   "id": "02ef9b69-ef31-427d-86d0-b8c799e1c1b1",
   "metadata": {},
   "outputs": [
    {
     "name": "stderr",
     "output_type": "stream",
     "text": [
      "C:\\Users\\deluc\\AppData\\Local\\Temp\\ipykernel_12680\\2641334487.py:6: UserWarning: You have not specified a value for the `type` parameter. Defaulting to the 'tuples' format for chatbot messages, but this is deprecated and will be removed in a future version of Gradio. Please set type='messages' instead, which uses openai-style dictionaries with 'role' and 'content' keys.\n",
      "  chatbot=gr.Chatbot(label=\"OpenAI Chatbot\"),\n",
      "c:\\Users\\deluc\\Documents\\Agentic-Code\\projects\\agents\\.venv\\Lib\\site-packages\\gradio\\chat_interface.py:321: UserWarning: The gr.ChatInterface was not provided with a type, so the type of the gr.Chatbot, 'tuples', will be used.\n",
      "  warnings.warn(\n"
     ]
    },
    {
     "name": "stdout",
     "output_type": "stream",
     "text": [
      "* Running on local URL:  http://127.0.0.1:7868\n",
      "* To create a public link, set `share=True` in `launch()`.\n"
     ]
    },
    {
     "data": {
      "text/html": [
       "<div><iframe src=\"http://127.0.0.1:7868/\" width=\"100%\" height=\"500\" allow=\"autoplay; camera; microphone; clipboard-read; clipboard-write;\" frameborder=\"0\" allowfullscreen></iframe></div>"
      ],
      "text/plain": [
       "<IPython.core.display.HTML object>"
      ]
     },
     "metadata": {},
     "output_type": "display_data"
    },
    {
     "data": {
      "text/plain": []
     },
     "execution_count": 40,
     "metadata": {},
     "output_type": "execute_result"
    }
   ],
   "source": [
    "# ====================\n",
    "# Build the Gradio interface\n",
    "# ====================\n",
    "# Gradio is a Python library that allows you to quickly create user interfaces (UIs) for machine learning models, APIs, or any Python function.\n",
    "# It is especially useful for prototyping, sharing, and testing models with non-technical users, as it abstracts away the complexity of web development.\n",
    "# Gradio provides a variety of UI components (like chatbots, textboxes, sliders, image uploaders, etc.) that can be combined to build interactive web apps with minimal code.\n",
    "\n",
    "# In this example, we use Gradio's ChatInterface to build a simple chatbot UI for interacting with OpenAI's language model.\n",
    "\n",
    "# The Interface is running in a local server, and you can access it via a web browser.\n",
    "\n",
    "# Here's a breakdown of how Gradio is being used:\n",
    "\n",
    "gr.ChatInterface(\n",
    "    fn=stream_chat_response,  # The function that processes user input and generates responses (streaming from OpenAI in this case)\n",
    "    chatbot=gr.Chatbot(label=\"OpenAI Chatbot\"),  # The chat window component where conversation appears\n",
    "    textbox=gr.Textbox(placeholder=\"Ask anything...\", container=True, scale=7),  # The input box for user queries\n",
    "    title=\"🤖 Gradio Chatbot using OpenAI\",  # Title displayed at the top of the interface\n",
    "    theme=\"default\",  # UI theme (can be customized)\n",
    "    examples=[\n",
    "        \"What's the capital of Argentina?\",  # Example prompts for users to try\n",
    "        \"Explain quantum entanglement in simple terms.\"\n",
    "    ],\n",
    "    cache_examples=False,  # Whether to cache example outputs (set to False for dynamic responses)\n",
    ").launch()  # This command launches the Gradio app in a new browser tab or inline (in notebooks)"
   ]
  }
 ],
 "metadata": {
  "kernelspec": {
   "display_name": ".venv",
   "language": "python",
   "name": "python3"
  },
  "language_info": {
   "codemirror_mode": {
    "name": "ipython",
    "version": 3
   },
   "file_extension": ".py",
   "mimetype": "text/x-python",
   "name": "python",
   "nbconvert_exporter": "python",
   "pygments_lexer": "ipython3",
   "version": "3.12.7"
  }
 },
 "nbformat": 4,
 "nbformat_minor": 5
}
